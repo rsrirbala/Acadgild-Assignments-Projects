{
 "cells": [
  {
   "cell_type": "markdown",
   "metadata": {},
   "source": [
    "1. Write a program which accepts a sequence of comma-separated numbers from console and generate a list"
   ]
  },
  {
   "cell_type": "code",
   "execution_count": 1,
   "metadata": {},
   "outputs": [
    {
     "name": "stdout",
     "output_type": "stream",
     "text": [
      "Please enter a list of numbers separated by commas: 3,45,99,12,120\n",
      "['3', '45', '99', '12', '120']\n"
     ]
    }
   ],
   "source": [
    "# Getting a lit of numbers from the user\n",
    "innum = input(\"Please enter a list of numbers separated by commas: \")\n",
    "# Generating list separated by commas and printing\n",
    "listinnum=innum.split(\",\")\n",
    "print(listinnum)"
   ]
  },
  {
   "cell_type": "markdown",
   "metadata": {},
   "source": [
    "2. Create the below pattern using nested for loop in Python. \n",
    "*  \n",
    "* *  \n",
    "* * *  \n",
    "* * * *  \n",
    "* * * * *  \n",
    "* * * *  \n",
    "* * *  \n",
    "* *  \n",
    "* \n"
   ]
  },
  {
   "cell_type": "code",
   "execution_count": 8,
   "metadata": {},
   "outputs": [
    {
     "name": "stdout",
     "output_type": "stream",
     "text": [
      "\n",
      "* \n",
      "* * \n",
      "* * * \n",
      "* * * * \n",
      "* * * * * \n",
      "* * * * \n",
      "* * * \n",
      "* * \n",
      "* \n"
     ]
    }
   ],
   "source": [
    "for i in range(6):\n",
    "    print(\"* \"*i)\n",
    "    if i==5:\n",
    "        for j in range(5,1,-1):\n",
    "            i=i-1\n",
    "            print(\"* \"*i) "
   ]
  },
  {
   "cell_type": "markdown",
   "metadata": {},
   "source": [
    " 3. Write a Python program to reverse a word after accepting the input from the user."
   ]
  },
  {
   "cell_type": "code",
   "execution_count": 9,
   "metadata": {},
   "outputs": [
    {
     "name": "stdout",
     "output_type": "stream",
     "text": [
      "Enter any of a word: Acadgild\n",
      "Reverse of the word you entered is:  dligdacA\n"
     ]
    }
   ],
   "source": [
    "word=input(\"Enter any of a word: \")\n",
    "revword=word[::-1]\n",
    "print(\"Reverse of the word you entered is: \",revword)"
   ]
  },
  {
   "cell_type": "markdown",
   "metadata": {},
   "source": [
    "4. Write a Python Program to print the given string in the format specified in the sample output. \n",
    " \n",
    "WE, THE PEOPLE OF INDIA, having solemnly resolved to constitute India into a SOVEREIGN, SOCIALIST, SECULAR, DEMOCRATIC REPUBLIC and to secure to all its citizens \n",
    " \n",
    "Sample Output: \n",
    " \n",
    "WE, THE PEOPLE OF INDIA, \n",
    "    having solemnly resolved to constitute India into a SOVEREIGN, !  \n",
    "        SOCIALIST, SECULAR, DEMOCRATIC \n",
    "            REPUBLIC and to secure to all its citizens"
   ]
  },
  {
   "cell_type": "code",
   "execution_count": 13,
   "metadata": {},
   "outputs": [
    {
     "name": "stdout",
     "output_type": "stream",
     "text": [
      "Given String is:  WE, THE PEOPLE OF INDIA, having solemnly resolved to constitute India into a SOVEREIGN, SOCIALIST, SECULAR, DEMOCRATIC REPUBLIC and to secure to all its citizens\n",
      "\n",
      " \n",
      " WE, THE PEOPLE OF INDIA, \n",
      " \t having solemnly resolved to constitute India into a SOVEREIGN,! \n",
      " \t \t SOCIALIST, SECULAR, DEMOCRATIC \n",
      " \t \t \t REPUBLIC and to secure to all its citizens\n"
     ]
    }
   ],
   "source": [
    "gstr=\"WE, THE PEOPLE OF INDIA, having solemnly resolved to constitute India into a SOVEREIGN, SOCIALIST, SECULAR, DEMOCRATIC REPUBLIC and to secure to all its citizens\"\n",
    "print(\"Given String is: \",gstr)\n",
    "#Printing in the request format\n",
    "print(\"\\n\",\"\\n\",\"WE, THE PEOPLE OF INDIA,\",\"\\n\",\"\\t\",\"having solemnly resolved to constitute India into a SOVEREIGN,!\",\"\\n\",\"\\t\",\"\\t\",\"SOCIALIST, SECULAR, DEMOCRATIC\",\"\\n\",\"\\t\",\"\\t\",\"\\t\",\"REPUBLIC and to secure to all its citizens\")\n"
   ]
  },
  {
   "cell_type": "code",
   "execution_count": null,
   "metadata": {},
   "outputs": [],
   "source": []
  },
  {
   "cell_type": "code",
   "execution_count": null,
   "metadata": {},
   "outputs": [],
   "source": []
  }
 ],
 "metadata": {
  "kernelspec": {
   "display_name": "Python 3",
   "language": "python",
   "name": "python3"
  },
  "language_info": {
   "codemirror_mode": {
    "name": "ipython",
    "version": 3
   },
   "file_extension": ".py",
   "mimetype": "text/x-python",
   "name": "python",
   "nbconvert_exporter": "python",
   "pygments_lexer": "ipython3",
   "version": "3.7.1"
  }
 },
 "nbformat": 4,
 "nbformat_minor": 2
}
