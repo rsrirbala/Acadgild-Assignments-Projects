{
 "cells": [
  {
   "cell_type": "markdown",
   "metadata": {},
   "source": [
    "1.1 Write a Python Program(with class concepts) to find the area of the triangle using the below formula. \n",
    " \n",
    "area = (s*(s-a)*(s-b)*(s-c)) ** 0.5 \n",
    " \n",
    "Function to take the length of the sides of triangle from user should be defined in the parent class and function to calculate the area should be defined in subclass. "
   ]
  },
  {
   "cell_type": "code",
   "execution_count": 4,
   "metadata": {},
   "outputs": [
    {
     "name": "stdout",
     "output_type": "stream",
     "text": [
      "Enter side A value :29\n",
      "Enter side B value :10\n",
      "Enter side C value :33\n",
      "The Area of Triangle is 140.20\n"
     ]
    }
   ],
   "source": [
    "class Trisides:\n",
    "    def __init__(self, a, b, c):\n",
    "        self.a=a\n",
    "        self.b=b\n",
    "        self.c=c\n",
    "\n",
    "class Triangle(Trisides):\n",
    "    def __init__(self, *args):  \n",
    "        super(Triangle, self).__init__(*args)\n",
    "        \n",
    "    def printsides(self):\n",
    "        print(self.a)\n",
    "        print(self.b)\n",
    "        print(self.c)\n",
    "\n",
    "    def findArea(self):\n",
    "    \n",
    "        # calculating the semi-perimeter\n",
    "        t = float((self.a + self.b + self.c)) / 2\n",
    "        area =(t*(t-(self.a))*(t-(self.b))*(t-(self.c))) ** 0.5\n",
    "        print('The Area of Triangle is %0.2f' %area)\n",
    "        \n",
    "tt=Triangle(float(input(\"Enter side A value :\")),float(input(\"Enter side B value :\")),float(input(\"Enter side C value :\")))\n",
    "tt.findArea()"
   ]
  },
  {
   "cell_type": "markdown",
   "metadata": {},
   "source": [
    "1.2 Write a function filter_long_words() that takes a list of words and an integer n and returns the list of words that are longer than n"
   ]
  },
  {
   "cell_type": "code",
   "execution_count": 17,
   "metadata": {},
   "outputs": [
    {
     "name": "stdout",
     "output_type": "stream",
     "text": [
      "['Datascience', 'Acadgild']\n"
     ]
    }
   ],
   "source": [
    "def long_words(words, n):\n",
    "    return [word for word in words if len(word) > n]\n",
    "\n",
    "# Printing words having more 6 letters from the given list\n",
    "print(long_words(['My', 'Datascience', 'course', 'with', 'Acadgild', 'going', 'good'],6))"
   ]
  },
  {
   "cell_type": "markdown",
   "metadata": {},
   "source": [
    "2.1 Write a Python program using function concept that maps list of words into a list of integers representing the lengths of the corresponding words\n",
    " \n",
    "Hint: If a list [ab,cde,erty] is passed on to the python function output should come as [2,3,4] \n",
    " \n",
    "Here 2,3 and 4 are the lengths of the words in the list. "
   ]
  },
  {
   "cell_type": "code",
   "execution_count": 19,
   "metadata": {},
   "outputs": [
    {
     "name": "stdout",
     "output_type": "stream",
     "text": [
      "[8, 11, 4, 8]\n"
     ]
    }
   ],
   "source": [
    "def lengths_map(words):\n",
    "    return map(len, words)\n",
    "\n",
    "if __name__ == \"__main__\":\n",
    "    words = ['Studying','Datascience', 'with', 'Acadgild']\n",
    "    print(list(lengths_map(words)))\n"
   ]
  },
  {
   "cell_type": "markdown",
   "metadata": {},
   "source": [
    "2.2 Write a Python function which takes a character (i.e. a string of length 1) and returns True if it is a vowel, False otherwise"
   ]
  },
  {
   "cell_type": "code",
   "execution_count": 24,
   "metadata": {},
   "outputs": [
    {
     "name": "stdout",
     "output_type": "stream",
     "text": [
      "False\n",
      "True\n",
      "True\n",
      "False\n",
      "True\n",
      "True\n",
      "False\n",
      "True\n"
     ]
    }
   ],
   "source": [
    "def vowel(char):\n",
    "    string_of_length = ('a', 'e', 'i', 'o', 'u')\n",
    "    if char not in string_of_length:\n",
    "        return False\n",
    "    return True\n",
    "\n",
    "\n",
    "if __name__ == \"__main__\":\n",
    "    print(vowel('-'))\n",
    "    print(vowel('i'))\n",
    "    print(vowel('e'))\n",
    "    print(vowel('k'))\n",
    "    print(vowel('a'))\n",
    "    print(vowel('o'))\n",
    "    print(vowel('3'))\n",
    "    print(vowel('u'))"
   ]
  },
  {
   "cell_type": "code",
   "execution_count": null,
   "metadata": {},
   "outputs": [],
   "source": []
  },
  {
   "cell_type": "code",
   "execution_count": null,
   "metadata": {},
   "outputs": [],
   "source": []
  }
 ],
 "metadata": {
  "kernelspec": {
   "display_name": "Python 3",
   "language": "python",
   "name": "python3"
  },
  "language_info": {
   "codemirror_mode": {
    "name": "ipython",
    "version": 3
   },
   "file_extension": ".py",
   "mimetype": "text/x-python",
   "name": "python",
   "nbconvert_exporter": "python",
   "pygments_lexer": "ipython3",
   "version": "3.7.1"
  }
 },
 "nbformat": 4,
 "nbformat_minor": 2
}
