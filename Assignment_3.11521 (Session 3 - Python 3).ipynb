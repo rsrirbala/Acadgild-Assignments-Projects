{
 "cells": [
  {
   "cell_type": "markdown",
   "metadata": {},
   "source": [
    "1.1 Write a Python Program to implement your own myreduce() function which works exactly like Python's built-in function reduce() "
   ]
  },
  {
   "cell_type": "code",
   "execution_count": 3,
   "metadata": {},
   "outputs": [
    {
     "name": "stdout",
     "output_type": "stream",
     "text": [
      "Enter the list sequence seperated by Commas: 421,939,111\n",
      "['421', '939', '111']\n",
      "1471\n"
     ]
    }
   ],
   "source": [
    "# Defining a variable with zero\n",
    "myreduce = 0\n",
    "# Getting input list of numbers\n",
    "list = input(\"Enter the list sequence seperated by Commas: \")\n",
    "listelements = list.split(\",\")\n",
    "print(listelements)\n",
    "# In this program 'myreduce' function is used to sum the values in a list\n",
    "for values in listelements:\n",
    "    myreduce = myreduce + int(values)\n",
    "print(myreduce)"
   ]
  },
  {
   "cell_type": "markdown",
   "metadata": {},
   "source": [
    "1.2 Write a Python program to implement your own myfilter() function which works exactly like Python's built-in function filter()"
   ]
  },
  {
   "cell_type": "code",
   "execution_count": 8,
   "metadata": {},
   "outputs": [
    {
     "data": {
      "text/plain": [
       "[0, 2, 4, 6, 8, 10, 12, 14, 16, 18]"
      ]
     },
     "execution_count": 8,
     "metadata": {},
     "output_type": "execute_result"
    }
   ],
   "source": [
    "def myfilter(num):\n",
    "    if num%2==0:\n",
    "        return True\n",
    "    \n",
    "lst=range(20)\n",
    "\n",
    "list(filter(myfilter,lst))"
   ]
  },
  {
   "cell_type": "markdown",
   "metadata": {},
   "source": [
    "2. Implement List comprehensions to produce the following lists. \n",
    "Write List comprehensions to produce the following Lists \n",
    "['A','C','A','D','G','I','L','D']\n",
    "['x', 'xx', 'xxx', 'xxxx', 'y', 'yy', 'yyy', 'yyyy', 'z', 'zz', 'zzz', 'zzzz'] \n",
    "['x', 'y', 'z', 'xx', 'yy', 'zz', 'xxx', 'yyy', 'zzz', 'xxxx', 'yyyy', 'zzzz'] \n",
    "[[2], [3], [4], [3], [4], [5], [4], [5], [6]] [[2, 3, 4, 5], [3, 4, 5, 6], \n",
    "[4, 5, 6, 7], [5, 6, 7, 8]] \n",
    " \n",
    "[(1, 1), (2, 1), (3, 1), (1, 2), (2, 2), (3, 2), (1, 3), (2, 3), (3, 3)] "
   ]
  },
  {
   "cell_type": "code",
   "execution_count": 12,
   "metadata": {},
   "outputs": [
    {
     "name": "stdout",
     "output_type": "stream",
     "text": [
      "The complete word:  ACADGILD\n",
      "The splitted word as follows: \n",
      " ['A', 'C', 'A', 'D', 'G', 'I', 'L', 'D']\n"
     ]
    }
   ],
   "source": [
    "#Splitting a string\n",
    "string = \"ACADGILD\"\n",
    "print(\"The complete word: \",string)\n",
    "strSplit = [x for x in string if x !=\" \"]\n",
    "print(\"The splitted word as follows:\",\"\\n\",strSplit)"
   ]
  },
  {
   "cell_type": "code",
   "execution_count": 14,
   "metadata": {},
   "outputs": [
    {
     "name": "stdout",
     "output_type": "stream",
     "text": [
      "['x', 'xx', 'xxx', 'xxxx', 'y', 'yy', 'yyy', 'yyyy', 'z', 'zz', 'zzz', 'zzzz']\n"
     ]
    }
   ],
   "source": [
    "multi1 = [(x*y) for x in \"xyz\" for y in range(1,5)]\n",
    "print(multi1)"
   ]
  },
  {
   "cell_type": "code",
   "execution_count": 15,
   "metadata": {},
   "outputs": [
    {
     "name": "stdout",
     "output_type": "stream",
     "text": [
      "['x', 'y', 'z', 'xx', 'yy', 'zz', 'xxx', 'yyy', 'zzz', 'xxxx', 'yyyy', 'zzzz']\n"
     ]
    }
   ],
   "source": [
    "multi2 = [(x*y) for x in range(1,5) for y in \"xyz\"]\n",
    "print(multi2)"
   ]
  },
  {
   "cell_type": "code",
   "execution_count": 17,
   "metadata": {},
   "outputs": [
    {
     "name": "stdout",
     "output_type": "stream",
     "text": [
      "[[2], [3], [4], [5], [3], [4], [5], [4], [5], [6]]\n"
     ]
    }
   ],
   "source": [
    "Matrix = [[2, 3, 4, 5, 3, 4, 5, 4, 5, 6]]\n",
    "mat = [[row[i] for row in Matrix] for i in range(10)]\n",
    "print(mat)"
   ]
  },
  {
   "cell_type": "code",
   "execution_count": 18,
   "metadata": {},
   "outputs": [
    {
     "name": "stdout",
     "output_type": "stream",
     "text": [
      "[[2, 3, 4, 5], [3, 4, 5, 6], [4, 5, 6, 7], [5, 6, 7, 8]]\n"
     ]
    }
   ],
   "source": [
    "sdmatrix = [[2, 3, 4, 5],\n",
    "            [3, 4, 5, 6],\n",
    "            [4, 5, 6, 7],\n",
    "            [5, 6, 7, 8]\n",
    "            ]\n",
    "sdm = [[row[i] for row in sdmatrix] for i in range(4)]\n",
    "print(sdm)"
   ]
  },
  {
   "cell_type": "code",
   "execution_count": 20,
   "metadata": {},
   "outputs": [
    {
     "name": "stdout",
     "output_type": "stream",
     "text": [
      "[(1, 1), (2, 1), (3, 1), (1, 2), (2, 2), (3, 2), (1, 3), (2, 3), (3, 3)]\n"
     ]
    }
   ],
   "source": [
    "matx = [(y,x) for x in [1,2,3] for y in [1,2,3]]\n",
    "print(matx)"
   ]
  },
  {
   "cell_type": "markdown",
   "metadata": {},
   "source": [
    "3. Implement a function longestWord() that takes a list of words and returns the longest one. "
   ]
  },
  {
   "cell_type": "code",
   "execution_count": 4,
   "metadata": {},
   "outputs": [
    {
     "name": "stdout",
     "output_type": "stream",
     "text": [
      "The Longest word is : Datascience\n"
     ]
    }
   ],
   "source": [
    "def longestWord(words):\n",
    "    longestWords_len = []\n",
    "    for n in words:\n",
    "        longestWords_len.append((len(n), n))\n",
    "    longestWords_len.sort()\n",
    "    return longestWords_len[-1][1]\n",
    "print('The Longest word is : '+longestWord([\"Acadgild\", \"Datascience\", \"Python\"]))"
   ]
  },
  {
   "cell_type": "code",
   "execution_count": null,
   "metadata": {},
   "outputs": [],
   "source": []
  },
  {
   "cell_type": "code",
   "execution_count": null,
   "metadata": {},
   "outputs": [],
   "source": []
  }
 ],
 "metadata": {
  "kernelspec": {
   "display_name": "Python 3",
   "language": "python",
   "name": "python3"
  },
  "language_info": {
   "codemirror_mode": {
    "name": "ipython",
    "version": 3
   },
   "file_extension": ".py",
   "mimetype": "text/x-python",
   "name": "python",
   "nbconvert_exporter": "python",
   "pygments_lexer": "ipython3",
   "version": "3.7.1"
  }
 },
 "nbformat": 4,
 "nbformat_minor": 2
}
